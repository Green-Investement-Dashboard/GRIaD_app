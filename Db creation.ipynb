{
 "cells": [
  {
   "cell_type": "code",
   "execution_count": 1,
   "id": "c0b17817",
   "metadata": {},
   "outputs": [],
   "source": [
    "import pandas as pd\n",
    "import sqlite3\n",
    "import numpy"
   ]
  },
  {
   "cell_type": "code",
   "execution_count": 2,
   "id": "8a260c28",
   "metadata": {},
   "outputs": [
    {
     "data": {
      "text/plain": [
       "<sqlite3.Connection at 0x7fba05691e40>"
      ]
     },
     "execution_count": 2,
     "metadata": {},
     "output_type": "execute_result"
    }
   ],
   "source": [
    "conn = sqlite3.connect(\"db_griad.sqlite3\")\n",
    "conn"
   ]
  },
  {
   "cell_type": "markdown",
   "id": "ac31f31a",
   "metadata": {},
   "source": [
    "## Creating DB"
   ]
  },
  {
   "cell_type": "code",
   "execution_count": 3,
   "id": "649042aa",
   "metadata": {},
   "outputs": [
    {
     "ename": "OperationalError",
     "evalue": "table invite already exists",
     "output_type": "error",
     "traceback": [
      "\u001b[0;31m---------------------------------------------------------------------------\u001b[0m",
      "\u001b[0;31mOperationalError\u001b[0m                          Traceback (most recent call last)",
      "\u001b[0;32m<ipython-input-3-e2a8ca984b23>\u001b[0m in \u001b[0;36m<module>\u001b[0;34m\u001b[0m\n\u001b[1;32m     14\u001b[0m )'''\n\u001b[1;32m     15\u001b[0m \u001b[0;34m\u001b[0m\u001b[0m\n\u001b[0;32m---> 16\u001b[0;31m \u001b[0mcursor\u001b[0m\u001b[0;34m.\u001b[0m\u001b[0mexecute\u001b[0m\u001b[0;34m(\u001b[0m\u001b[0msql\u001b[0m\u001b[0;34m)\u001b[0m\u001b[0;34m\u001b[0m\u001b[0;34m\u001b[0m\u001b[0m\n\u001b[0m",
      "\u001b[0;31mOperationalError\u001b[0m: table invite already exists"
     ]
    }
   ],
   "source": [
    "cursor = conn.cursor()\n",
    "#cursor.execute(\"DROP TABLE IF EXISTS invite\")\n",
    "\n",
    "sql = '''CREATE TABLE invite(\n",
    "   id INTEGER PRIMARY KEY AUTOINCREMENT,\n",
    "   email TEXT,\n",
    "   nom TEXT,\n",
    "   prenom TEXT,\n",
    "   plus1 INT,\n",
    "   email_plus1 TEXT,\n",
    "   nom_plus1 TEXT,\n",
    "   prenom_plus1 TEXT,\n",
    "   regime TEXT\n",
    ")'''\n",
    "          \n",
    "cursor.execute(sql)"
   ]
  },
  {
   "cell_type": "code",
   "execution_count": 73,
   "id": "c743f08b",
   "metadata": {
    "scrolled": true
   },
   "outputs": [
    {
     "data": {
      "text/plain": [
       "<sqlite3.Cursor at 0x7f8dfebfbdc0>"
      ]
     },
     "execution_count": 73,
     "metadata": {},
     "output_type": "execute_result"
    }
   ],
   "source": [
    "cursor = conn.cursor()\n",
    "cursor.execute(\"DROP TABLE IF EXISTS invite_plus_1\")\n",
    "\n",
    "sql = '''CREATE TABLE invite_plus_1(\n",
    "   id INTEGER PRIMARY KEY AUTOINCREMENT,\n",
    "   email TEXT,\n",
    "   first_name TEXT,\n",
    "   last_name TEXT,\n",
    "   invite_by INT\n",
    ")'''\n",
    "          \n",
    "cursor.execute(sql)"
   ]
  },
  {
   "cell_type": "markdown",
   "id": "48cebadf",
   "metadata": {},
   "source": [
    "## Inspecting db"
   ]
  },
  {
   "cell_type": "code",
   "execution_count": 81,
   "id": "12736f10",
   "metadata": {},
   "outputs": [
    {
     "data": {
      "text/html": [
       "<div>\n",
       "<style scoped>\n",
       "    .dataframe tbody tr th:only-of-type {\n",
       "        vertical-align: middle;\n",
       "    }\n",
       "\n",
       "    .dataframe tbody tr th {\n",
       "        vertical-align: top;\n",
       "    }\n",
       "\n",
       "    .dataframe thead th {\n",
       "        text-align: right;\n",
       "    }\n",
       "</style>\n",
       "<table border=\"1\" class=\"dataframe\">\n",
       "  <thead>\n",
       "    <tr style=\"text-align: right;\">\n",
       "      <th></th>\n",
       "      <th>email</th>\n",
       "      <th>nom</th>\n",
       "      <th>prenom</th>\n",
       "      <th>plus1</th>\n",
       "      <th>email_plus1</th>\n",
       "      <th>nom_plus1</th>\n",
       "      <th>prenom_plus1</th>\n",
       "    </tr>\n",
       "    <tr>\n",
       "      <th>id</th>\n",
       "      <th></th>\n",
       "      <th></th>\n",
       "      <th></th>\n",
       "      <th></th>\n",
       "      <th></th>\n",
       "      <th></th>\n",
       "      <th></th>\n",
       "    </tr>\n",
       "  </thead>\n",
       "  <tbody>\n",
       "    <tr>\n",
       "      <th>1</th>\n",
       "      <td>clement.houzard@gmail.com</td>\n",
       "      <td>Houzard</td>\n",
       "      <td>Clément</td>\n",
       "      <td>True</td>\n",
       "      <td>clement.houzard@gmail.com</td>\n",
       "      <td>Houzard</td>\n",
       "      <td>Clément</td>\n",
       "    </tr>\n",
       "  </tbody>\n",
       "</table>\n",
       "</div>"
      ],
      "text/plain": [
       "                        email      nom   prenom plus1  \\\n",
       "id                                                      \n",
       "1   clement.houzard@gmail.com  Houzard  Clément  True   \n",
       "\n",
       "                  email_plus1 nom_plus1 prenom_plus1  \n",
       "id                                                    \n",
       "1   clement.houzard@gmail.com   Houzard      Clément  "
      ]
     },
     "execution_count": 81,
     "metadata": {},
     "output_type": "execute_result"
    }
   ],
   "source": [
    "df = pd.read_sql_query(\"SELECT * from invite\", conn)\n",
    "df =df.set_index('id')\n",
    "df"
   ]
  },
  {
   "cell_type": "code",
   "execution_count": null,
   "id": "82a46d4f",
   "metadata": {},
   "outputs": [],
   "source": []
  },
  {
   "cell_type": "code",
   "execution_count": 35,
   "id": "6691fe33",
   "metadata": {},
   "outputs": [
    {
     "data": {
      "text/html": [
       "<div>\n",
       "<style scoped>\n",
       "    .dataframe tbody tr th:only-of-type {\n",
       "        vertical-align: middle;\n",
       "    }\n",
       "\n",
       "    .dataframe tbody tr th {\n",
       "        vertical-align: top;\n",
       "    }\n",
       "\n",
       "    .dataframe thead th {\n",
       "        text-align: right;\n",
       "    }\n",
       "</style>\n",
       "<table border=\"1\" class=\"dataframe\">\n",
       "  <thead>\n",
       "    <tr style=\"text-align: right;\">\n",
       "      <th></th>\n",
       "      <th>email</th>\n",
       "      <th>first_name</th>\n",
       "      <th>last_name</th>\n",
       "      <th>invite_by</th>\n",
       "    </tr>\n",
       "    <tr>\n",
       "      <th>id</th>\n",
       "      <th></th>\n",
       "      <th></th>\n",
       "      <th></th>\n",
       "      <th></th>\n",
       "    </tr>\n",
       "  </thead>\n",
       "  <tbody>\n",
       "  </tbody>\n",
       "</table>\n",
       "</div>"
      ],
      "text/plain": [
       "Empty DataFrame\n",
       "Columns: [email, first_name, last_name, invite_by]\n",
       "Index: []"
      ]
     },
     "execution_count": 35,
     "metadata": {},
     "output_type": "execute_result"
    }
   ],
   "source": [
    "df2 = pd.read_sql_query(\"SELECT * from invite_plus_1\", conn)\n",
    "df2 =df.set_index('id')\n",
    "df2"
   ]
  },
  {
   "cell_type": "markdown",
   "id": "88c01fc2",
   "metadata": {},
   "source": [
    "## Deleting line"
   ]
  },
  {
   "cell_type": "code",
   "execution_count": 56,
   "id": "91fa6be6",
   "metadata": {},
   "outputs": [
    {
     "name": "stdout",
     "output_type": "stream",
     "text": [
      "Index([None, None], dtype='object', name='id')\n"
     ]
    },
    {
     "data": {
      "text/html": [
       "<div>\n",
       "<style scoped>\n",
       "    .dataframe tbody tr th:only-of-type {\n",
       "        vertical-align: middle;\n",
       "    }\n",
       "\n",
       "    .dataframe tbody tr th {\n",
       "        vertical-align: top;\n",
       "    }\n",
       "\n",
       "    .dataframe thead th {\n",
       "        text-align: right;\n",
       "    }\n",
       "</style>\n",
       "<table border=\"1\" class=\"dataframe\">\n",
       "  <thead>\n",
       "    <tr style=\"text-align: right;\">\n",
       "      <th></th>\n",
       "      <th>email</th>\n",
       "      <th>nom</th>\n",
       "      <th>prenom</th>\n",
       "      <th>plus1</th>\n",
       "      <th>email_plus1</th>\n",
       "      <th>nom_plus1</th>\n",
       "      <th>prenom_plus1</th>\n",
       "    </tr>\n",
       "    <tr>\n",
       "      <th>id</th>\n",
       "      <th></th>\n",
       "      <th></th>\n",
       "      <th></th>\n",
       "      <th></th>\n",
       "      <th></th>\n",
       "      <th></th>\n",
       "      <th></th>\n",
       "    </tr>\n",
       "  </thead>\n",
       "  <tbody>\n",
       "  </tbody>\n",
       "</table>\n",
       "</div>"
      ],
      "text/plain": [
       "Empty DataFrame\n",
       "Columns: [email, nom, prenom, plus1, email_plus1, nom_plus1, prenom_plus1]\n",
       "Index: []"
      ]
     },
     "execution_count": 56,
     "metadata": {},
     "output_type": "execute_result"
    }
   ],
   "source": [
    "print(df.index)\n",
    "#df = df.drop(index=1, axis=1)\n",
    "df = df.iloc[0:0:]\n",
    "df"
   ]
  },
  {
   "cell_type": "code",
   "execution_count": 57,
   "id": "3cdaf412",
   "metadata": {},
   "outputs": [],
   "source": [
    "df.to_sql(\"invite\", conn, if_exists=\"replace\")"
   ]
  },
  {
   "cell_type": "markdown",
   "id": "27382b6c",
   "metadata": {},
   "source": [
    "## Closing"
   ]
  },
  {
   "cell_type": "code",
   "execution_count": 42,
   "id": "5178c482",
   "metadata": {},
   "outputs": [],
   "source": [
    "conn.close()"
   ]
  },
  {
   "cell_type": "code",
   "execution_count": null,
   "id": "d55b67e0",
   "metadata": {},
   "outputs": [],
   "source": []
  },
  {
   "cell_type": "code",
   "execution_count": null,
   "id": "32521479",
   "metadata": {},
   "outputs": [],
   "source": []
  },
  {
   "cell_type": "code",
   "execution_count": null,
   "id": "9f3359c4",
   "metadata": {},
   "outputs": [],
   "source": []
  },
  {
   "cell_type": "code",
   "execution_count": 66,
   "id": "e41a579c",
   "metadata": {},
   "outputs": [],
   "source": [
    "import pandas as pd\n",
    "import sqlite3\n",
    "import numpy\n",
    "\n",
    "conn = sqlite3.connect(\"db_griad.sqlite3\")\n",
    "\n",
    "df = pd.read_sql_query(\"SELECT * from invite\", conn)\n",
    "df =df.set_index('id')\n",
    "df = df.iloc[0:0:]\n",
    "df.to_sql(\"invite\", conn, if_exists=\"replace\")\n",
    "conn.close()"
   ]
  },
  {
   "cell_type": "code",
   "execution_count": null,
   "id": "a46b3918",
   "metadata": {},
   "outputs": [],
   "source": []
  }
 ],
 "metadata": {
  "kernelspec": {
   "display_name": "Python 3",
   "language": "python",
   "name": "python3"
  },
  "language_info": {
   "codemirror_mode": {
    "name": "ipython",
    "version": 3
   },
   "file_extension": ".py",
   "mimetype": "text/x-python",
   "name": "python",
   "nbconvert_exporter": "python",
   "pygments_lexer": "ipython3",
   "version": "3.9.4"
  }
 },
 "nbformat": 4,
 "nbformat_minor": 5
}
